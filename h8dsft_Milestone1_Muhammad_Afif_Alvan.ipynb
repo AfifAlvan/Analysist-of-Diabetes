{
  "nbformat": 4,
  "nbformat_minor": 0,
  "metadata": {
    "colab": {
      "provenance": [],
      "collapsed_sections": [
        "5X9Vl9lT1UMW",
        "EdIuR8FB1arv",
        "BXNLqbPfr3Ny",
        "re_ByjXYwqqf",
        "OiRTOSm99zzm",
        "gXnjtOEGzUJC",
        "-h_YIEtFBR-U",
        "yFUHxyJ00KsT",
        "lXv6_4lL_Mbc",
        "VvLdyF9-_-hB",
        "YxUe2Yf8NTh8"
      ]
    },
    "kernelspec": {
      "name": "python3",
      "display_name": "Python 3"
    },
    "language_info": {
      "name": "python"
    }
  },
  "cells": [
    {
      "cell_type": "markdown",
      "source": [
        "# Perkenalan"
      ],
      "metadata": {
        "id": "x2tNg7w7ME68"
      }
    },
    {
      "cell_type": "markdown",
      "source": [
        "\n",
        "## **Mailstone**\n",
        "\n",
        "\n",
        "Nama : Muhammad Afif Alvan\n",
        "\n",
        "Batch : Batch-016-rmt\n"
      ],
      "metadata": {
        "id": "06SfM-Uh0NJu"
      }
    },
    {
      "cell_type": "markdown",
      "source": [
        "#Identifikasi Masalah"
      ],
      "metadata": {
        "id": "5X9Vl9lT1UMW"
      }
    },
    {
      "cell_type": "markdown",
      "source": [
        "##Topik Permasalahan\n",
        "---\n",
        "Data yang diperoleh merupakan dataset yang berasal dari National Institute of Diabetes and Digestive and Kidney Diseases. Dataset ini bertujuan untuk memprediksi berdasarkan pengukuran diagnostik apakah pasien menderita diabetes. Secara khusus data ini berisi semua pasien perempuan yang berusia 21 tahun dari keturunan Pima India. \n",
        "Diabetes adalah penyakit yang sudah tidak asing lagi dan penyebarannya yang luas, untuk mengatasinya kita butuh pengukuran untuk mengetahui resiko-resiko terkena penyakit diabetes."
      ],
      "metadata": {
        "id": "iJ5DSVLplYZN"
      }
    },
    {
      "cell_type": "markdown",
      "source": [
        "##Problem Statement\n",
        "---\n",
        "Apakah pasien perempuan yang mengidap penyakit diabetes dapat diukur menggunakan pengukuran diagnostik dilihat dari tanda dan gejalanya."
      ],
      "metadata": {
        "id": "mv3jKg9Ml1Zk"
      }
    },
    {
      "cell_type": "markdown",
      "source": [
        "##Rumusan Masalah\n",
        "---\n",
        "* Bagaimana perbandingan antara pasien dengan diabetes dan tidak dengan diabetes\n",
        "* Pada rentang umur berapa yang memiliki diabetes paling tinggi dan disertai glucosa yang tinggi\n",
        "* Bagaimana korelasi antara glucosa dengan insulin\n",
        "* Bagaimana hubungan antara glucosa dengan insulin ditinjau dari penyebarannya"
      ],
      "metadata": {
        "id": "yOoYBs14MY6i"
      }
    },
    {
      "cell_type": "markdown",
      "source": [
        "# DATA LOADING"
      ],
      "metadata": {
        "id": "EdIuR8FB1arv"
      }
    },
    {
      "cell_type": "markdown",
      "source": [
        "sumber data dari kaggle : https://www.kaggle.com/datasets/mathchi/diabetes-data-set"
      ],
      "metadata": {
        "id": "EtH9208vHp05"
      }
    },
    {
      "cell_type": "code",
      "source": [
        "#Melakukan Importing data dengan pandas\n",
        "import pandas as pd\n",
        "import numpy as np\n",
        "#import library perhitungan\n",
        "from scipy import stats\n",
        "import numpy as np\n",
        "#Import library visualisasi\n",
        "import matplotlib.pyplot as plt\n",
        "import seaborn as sns"
      ],
      "metadata": {
        "id": "qpq_VB9x0ueJ"
      },
      "execution_count": 423,
      "outputs": []
    },
    {
      "cell_type": "code",
      "source": [
        "#Mengambil data dari file lokal dengan pandas\n",
        "df = pd.read_csv('diabetes.csv')\n",
        "df"
      ],
      "metadata": {
        "colab": {
          "base_uri": "https://localhost:8080/",
          "height": 488
        },
        "id": "a8n0Ymota1_t",
        "outputId": "7f4fc0db-0cba-46cc-a545-187314b08d4f"
      },
      "execution_count": 424,
      "outputs": [
        {
          "output_type": "execute_result",
          "data": {
            "text/plain": [
              "     Pregnancies  Glucose  BloodPressure  SkinThickness  Insulin   BMI  \\\n",
              "0              6      148             72             35        0  33.6   \n",
              "1              1       85             66             29        0  26.6   \n",
              "2              8      183             64              0        0  23.3   \n",
              "3              1       89             66             23       94  28.1   \n",
              "4              0      137             40             35      168  43.1   \n",
              "..           ...      ...            ...            ...      ...   ...   \n",
              "763           10      101             76             48      180  32.9   \n",
              "764            2      122             70             27        0  36.8   \n",
              "765            5      121             72             23      112  26.2   \n",
              "766            1      126             60              0        0  30.1   \n",
              "767            1       93             70             31        0  30.4   \n",
              "\n",
              "     DiabetesPedigreeFunction  Age  Outcome  \n",
              "0                       0.627   50        1  \n",
              "1                       0.351   31        0  \n",
              "2                       0.672   32        1  \n",
              "3                       0.167   21        0  \n",
              "4                       2.288   33        1  \n",
              "..                        ...  ...      ...  \n",
              "763                     0.171   63        0  \n",
              "764                     0.340   27        0  \n",
              "765                     0.245   30        0  \n",
              "766                     0.349   47        1  \n",
              "767                     0.315   23        0  \n",
              "\n",
              "[768 rows x 9 columns]"
            ],
            "text/html": [
              "\n",
              "  <div id=\"df-bb4d00d7-b0c0-41c7-99ab-db4568eba60f\">\n",
              "    <div class=\"colab-df-container\">\n",
              "      <div>\n",
              "<style scoped>\n",
              "    .dataframe tbody tr th:only-of-type {\n",
              "        vertical-align: middle;\n",
              "    }\n",
              "\n",
              "    .dataframe tbody tr th {\n",
              "        vertical-align: top;\n",
              "    }\n",
              "\n",
              "    .dataframe thead th {\n",
              "        text-align: right;\n",
              "    }\n",
              "</style>\n",
              "<table border=\"1\" class=\"dataframe\">\n",
              "  <thead>\n",
              "    <tr style=\"text-align: right;\">\n",
              "      <th></th>\n",
              "      <th>Pregnancies</th>\n",
              "      <th>Glucose</th>\n",
              "      <th>BloodPressure</th>\n",
              "      <th>SkinThickness</th>\n",
              "      <th>Insulin</th>\n",
              "      <th>BMI</th>\n",
              "      <th>DiabetesPedigreeFunction</th>\n",
              "      <th>Age</th>\n",
              "      <th>Outcome</th>\n",
              "    </tr>\n",
              "  </thead>\n",
              "  <tbody>\n",
              "    <tr>\n",
              "      <th>0</th>\n",
              "      <td>6</td>\n",
              "      <td>148</td>\n",
              "      <td>72</td>\n",
              "      <td>35</td>\n",
              "      <td>0</td>\n",
              "      <td>33.6</td>\n",
              "      <td>0.627</td>\n",
              "      <td>50</td>\n",
              "      <td>1</td>\n",
              "    </tr>\n",
              "    <tr>\n",
              "      <th>1</th>\n",
              "      <td>1</td>\n",
              "      <td>85</td>\n",
              "      <td>66</td>\n",
              "      <td>29</td>\n",
              "      <td>0</td>\n",
              "      <td>26.6</td>\n",
              "      <td>0.351</td>\n",
              "      <td>31</td>\n",
              "      <td>0</td>\n",
              "    </tr>\n",
              "    <tr>\n",
              "      <th>2</th>\n",
              "      <td>8</td>\n",
              "      <td>183</td>\n",
              "      <td>64</td>\n",
              "      <td>0</td>\n",
              "      <td>0</td>\n",
              "      <td>23.3</td>\n",
              "      <td>0.672</td>\n",
              "      <td>32</td>\n",
              "      <td>1</td>\n",
              "    </tr>\n",
              "    <tr>\n",
              "      <th>3</th>\n",
              "      <td>1</td>\n",
              "      <td>89</td>\n",
              "      <td>66</td>\n",
              "      <td>23</td>\n",
              "      <td>94</td>\n",
              "      <td>28.1</td>\n",
              "      <td>0.167</td>\n",
              "      <td>21</td>\n",
              "      <td>0</td>\n",
              "    </tr>\n",
              "    <tr>\n",
              "      <th>4</th>\n",
              "      <td>0</td>\n",
              "      <td>137</td>\n",
              "      <td>40</td>\n",
              "      <td>35</td>\n",
              "      <td>168</td>\n",
              "      <td>43.1</td>\n",
              "      <td>2.288</td>\n",
              "      <td>33</td>\n",
              "      <td>1</td>\n",
              "    </tr>\n",
              "    <tr>\n",
              "      <th>...</th>\n",
              "      <td>...</td>\n",
              "      <td>...</td>\n",
              "      <td>...</td>\n",
              "      <td>...</td>\n",
              "      <td>...</td>\n",
              "      <td>...</td>\n",
              "      <td>...</td>\n",
              "      <td>...</td>\n",
              "      <td>...</td>\n",
              "    </tr>\n",
              "    <tr>\n",
              "      <th>763</th>\n",
              "      <td>10</td>\n",
              "      <td>101</td>\n",
              "      <td>76</td>\n",
              "      <td>48</td>\n",
              "      <td>180</td>\n",
              "      <td>32.9</td>\n",
              "      <td>0.171</td>\n",
              "      <td>63</td>\n",
              "      <td>0</td>\n",
              "    </tr>\n",
              "    <tr>\n",
              "      <th>764</th>\n",
              "      <td>2</td>\n",
              "      <td>122</td>\n",
              "      <td>70</td>\n",
              "      <td>27</td>\n",
              "      <td>0</td>\n",
              "      <td>36.8</td>\n",
              "      <td>0.340</td>\n",
              "      <td>27</td>\n",
              "      <td>0</td>\n",
              "    </tr>\n",
              "    <tr>\n",
              "      <th>765</th>\n",
              "      <td>5</td>\n",
              "      <td>121</td>\n",
              "      <td>72</td>\n",
              "      <td>23</td>\n",
              "      <td>112</td>\n",
              "      <td>26.2</td>\n",
              "      <td>0.245</td>\n",
              "      <td>30</td>\n",
              "      <td>0</td>\n",
              "    </tr>\n",
              "    <tr>\n",
              "      <th>766</th>\n",
              "      <td>1</td>\n",
              "      <td>126</td>\n",
              "      <td>60</td>\n",
              "      <td>0</td>\n",
              "      <td>0</td>\n",
              "      <td>30.1</td>\n",
              "      <td>0.349</td>\n",
              "      <td>47</td>\n",
              "      <td>1</td>\n",
              "    </tr>\n",
              "    <tr>\n",
              "      <th>767</th>\n",
              "      <td>1</td>\n",
              "      <td>93</td>\n",
              "      <td>70</td>\n",
              "      <td>31</td>\n",
              "      <td>0</td>\n",
              "      <td>30.4</td>\n",
              "      <td>0.315</td>\n",
              "      <td>23</td>\n",
              "      <td>0</td>\n",
              "    </tr>\n",
              "  </tbody>\n",
              "</table>\n",
              "<p>768 rows × 9 columns</p>\n",
              "</div>\n",
              "      <button class=\"colab-df-convert\" onclick=\"convertToInteractive('df-bb4d00d7-b0c0-41c7-99ab-db4568eba60f')\"\n",
              "              title=\"Convert this dataframe to an interactive table.\"\n",
              "              style=\"display:none;\">\n",
              "        \n",
              "  <svg xmlns=\"http://www.w3.org/2000/svg\" height=\"24px\"viewBox=\"0 0 24 24\"\n",
              "       width=\"24px\">\n",
              "    <path d=\"M0 0h24v24H0V0z\" fill=\"none\"/>\n",
              "    <path d=\"M18.56 5.44l.94 2.06.94-2.06 2.06-.94-2.06-.94-.94-2.06-.94 2.06-2.06.94zm-11 1L8.5 8.5l.94-2.06 2.06-.94-2.06-.94L8.5 2.5l-.94 2.06-2.06.94zm10 10l.94 2.06.94-2.06 2.06-.94-2.06-.94-.94-2.06-.94 2.06-2.06.94z\"/><path d=\"M17.41 7.96l-1.37-1.37c-.4-.4-.92-.59-1.43-.59-.52 0-1.04.2-1.43.59L10.3 9.45l-7.72 7.72c-.78.78-.78 2.05 0 2.83L4 21.41c.39.39.9.59 1.41.59.51 0 1.02-.2 1.41-.59l7.78-7.78 2.81-2.81c.8-.78.8-2.07 0-2.86zM5.41 20L4 18.59l7.72-7.72 1.47 1.35L5.41 20z\"/>\n",
              "  </svg>\n",
              "      </button>\n",
              "      \n",
              "  <style>\n",
              "    .colab-df-container {\n",
              "      display:flex;\n",
              "      flex-wrap:wrap;\n",
              "      gap: 12px;\n",
              "    }\n",
              "\n",
              "    .colab-df-convert {\n",
              "      background-color: #E8F0FE;\n",
              "      border: none;\n",
              "      border-radius: 50%;\n",
              "      cursor: pointer;\n",
              "      display: none;\n",
              "      fill: #1967D2;\n",
              "      height: 32px;\n",
              "      padding: 0 0 0 0;\n",
              "      width: 32px;\n",
              "    }\n",
              "\n",
              "    .colab-df-convert:hover {\n",
              "      background-color: #E2EBFA;\n",
              "      box-shadow: 0px 1px 2px rgba(60, 64, 67, 0.3), 0px 1px 3px 1px rgba(60, 64, 67, 0.15);\n",
              "      fill: #174EA6;\n",
              "    }\n",
              "\n",
              "    [theme=dark] .colab-df-convert {\n",
              "      background-color: #3B4455;\n",
              "      fill: #D2E3FC;\n",
              "    }\n",
              "\n",
              "    [theme=dark] .colab-df-convert:hover {\n",
              "      background-color: #434B5C;\n",
              "      box-shadow: 0px 1px 3px 1px rgba(0, 0, 0, 0.15);\n",
              "      filter: drop-shadow(0px 1px 2px rgba(0, 0, 0, 0.3));\n",
              "      fill: #FFFFFF;\n",
              "    }\n",
              "  </style>\n",
              "\n",
              "      <script>\n",
              "        const buttonEl =\n",
              "          document.querySelector('#df-bb4d00d7-b0c0-41c7-99ab-db4568eba60f button.colab-df-convert');\n",
              "        buttonEl.style.display =\n",
              "          google.colab.kernel.accessAllowed ? 'block' : 'none';\n",
              "\n",
              "        async function convertToInteractive(key) {\n",
              "          const element = document.querySelector('#df-bb4d00d7-b0c0-41c7-99ab-db4568eba60f');\n",
              "          const dataTable =\n",
              "            await google.colab.kernel.invokeFunction('convertToInteractive',\n",
              "                                                     [key], {});\n",
              "          if (!dataTable) return;\n",
              "\n",
              "          const docLinkHtml = 'Like what you see? Visit the ' +\n",
              "            '<a target=\"_blank\" href=https://colab.research.google.com/notebooks/data_table.ipynb>data table notebook</a>'\n",
              "            + ' to learn more about interactive tables.';\n",
              "          element.innerHTML = '';\n",
              "          dataTable['output_type'] = 'display_data';\n",
              "          await google.colab.output.renderOutput(dataTable, element);\n",
              "          const docLink = document.createElement('div');\n",
              "          docLink.innerHTML = docLinkHtml;\n",
              "          element.appendChild(docLink);\n",
              "        }\n",
              "      </script>\n",
              "    </div>\n",
              "  </div>\n",
              "  "
            ]
          },
          "metadata": {},
          "execution_count": 424
        }
      ]
    },
    {
      "cell_type": "code",
      "source": [
        "#Mencari informasi terkait data\n",
        "df.info()"
      ],
      "metadata": {
        "colab": {
          "base_uri": "https://localhost:8080/"
        },
        "id": "_iQuasPm3Ni8",
        "outputId": "4014e550-7c2b-4263-da38-ac568cca31e1"
      },
      "execution_count": 425,
      "outputs": [
        {
          "output_type": "stream",
          "name": "stdout",
          "text": [
            "<class 'pandas.core.frame.DataFrame'>\n",
            "RangeIndex: 768 entries, 0 to 767\n",
            "Data columns (total 9 columns):\n",
            " #   Column                    Non-Null Count  Dtype  \n",
            "---  ------                    --------------  -----  \n",
            " 0   Pregnancies               768 non-null    int64  \n",
            " 1   Glucose                   768 non-null    int64  \n",
            " 2   BloodPressure             768 non-null    int64  \n",
            " 3   SkinThickness             768 non-null    int64  \n",
            " 4   Insulin                   768 non-null    int64  \n",
            " 5   BMI                       768 non-null    float64\n",
            " 6   DiabetesPedigreeFunction  768 non-null    float64\n",
            " 7   Age                       768 non-null    int64  \n",
            " 8   Outcome                   768 non-null    int64  \n",
            "dtypes: float64(2), int64(7)\n",
            "memory usage: 54.1 KB\n"
          ]
        }
      ]
    },
    {
      "cell_type": "markdown",
      "source": [
        "#Data Cleaning\n",
        "---\n",
        "Data cleaning dilakukan untuk membersihkan data dari nilai error dan outlier."
      ],
      "metadata": {
        "id": "BXNLqbPfr3Ny"
      }
    },
    {
      "cell_type": "code",
      "source": [
        "#Mengecek data missing value\n",
        "df.isna().sum()"
      ],
      "metadata": {
        "colab": {
          "base_uri": "https://localhost:8080/"
        },
        "id": "cMFRwX3crV_o",
        "outputId": "9d57432d-455c-4b41-cfe8-c11ce31a1517"
      },
      "execution_count": 426,
      "outputs": [
        {
          "output_type": "execute_result",
          "data": {
            "text/plain": [
              "Pregnancies                 0\n",
              "Glucose                     0\n",
              "BloodPressure               0\n",
              "SkinThickness               0\n",
              "Insulin                     0\n",
              "BMI                         0\n",
              "DiabetesPedigreeFunction    0\n",
              "Age                         0\n",
              "Outcome                     0\n",
              "dtype: int64"
            ]
          },
          "metadata": {},
          "execution_count": 426
        }
      ]
    },
    {
      "cell_type": "code",
      "source": [
        "#Melihat sekilas tentang data\n",
        "df.describe()"
      ],
      "metadata": {
        "colab": {
          "base_uri": "https://localhost:8080/",
          "height": 364
        },
        "id": "q4eeShDZrgUN",
        "outputId": "4d4adb5f-838e-45a0-872a-50e3bbe09b6b"
      },
      "execution_count": 427,
      "outputs": [
        {
          "output_type": "execute_result",
          "data": {
            "text/plain": [
              "       Pregnancies     Glucose  BloodPressure  SkinThickness     Insulin  \\\n",
              "count   768.000000  768.000000     768.000000     768.000000  768.000000   \n",
              "mean      3.845052  120.894531      69.105469      20.536458   79.799479   \n",
              "std       3.369578   31.972618      19.355807      15.952218  115.244002   \n",
              "min       0.000000    0.000000       0.000000       0.000000    0.000000   \n",
              "25%       1.000000   99.000000      62.000000       0.000000    0.000000   \n",
              "50%       3.000000  117.000000      72.000000      23.000000   30.500000   \n",
              "75%       6.000000  140.250000      80.000000      32.000000  127.250000   \n",
              "max      17.000000  199.000000     122.000000      99.000000  846.000000   \n",
              "\n",
              "              BMI  DiabetesPedigreeFunction         Age     Outcome  \n",
              "count  768.000000                768.000000  768.000000  768.000000  \n",
              "mean    31.992578                  0.471876   33.240885    0.348958  \n",
              "std      7.884160                  0.331329   11.760232    0.476951  \n",
              "min      0.000000                  0.078000   21.000000    0.000000  \n",
              "25%     27.300000                  0.243750   24.000000    0.000000  \n",
              "50%     32.000000                  0.372500   29.000000    0.000000  \n",
              "75%     36.600000                  0.626250   41.000000    1.000000  \n",
              "max     67.100000                  2.420000   81.000000    1.000000  "
            ],
            "text/html": [
              "\n",
              "  <div id=\"df-8b6dbf88-c07a-4bf4-a375-cc010f080d5b\">\n",
              "    <div class=\"colab-df-container\">\n",
              "      <div>\n",
              "<style scoped>\n",
              "    .dataframe tbody tr th:only-of-type {\n",
              "        vertical-align: middle;\n",
              "    }\n",
              "\n",
              "    .dataframe tbody tr th {\n",
              "        vertical-align: top;\n",
              "    }\n",
              "\n",
              "    .dataframe thead th {\n",
              "        text-align: right;\n",
              "    }\n",
              "</style>\n",
              "<table border=\"1\" class=\"dataframe\">\n",
              "  <thead>\n",
              "    <tr style=\"text-align: right;\">\n",
              "      <th></th>\n",
              "      <th>Pregnancies</th>\n",
              "      <th>Glucose</th>\n",
              "      <th>BloodPressure</th>\n",
              "      <th>SkinThickness</th>\n",
              "      <th>Insulin</th>\n",
              "      <th>BMI</th>\n",
              "      <th>DiabetesPedigreeFunction</th>\n",
              "      <th>Age</th>\n",
              "      <th>Outcome</th>\n",
              "    </tr>\n",
              "  </thead>\n",
              "  <tbody>\n",
              "    <tr>\n",
              "      <th>count</th>\n",
              "      <td>768.000000</td>\n",
              "      <td>768.000000</td>\n",
              "      <td>768.000000</td>\n",
              "      <td>768.000000</td>\n",
              "      <td>768.000000</td>\n",
              "      <td>768.000000</td>\n",
              "      <td>768.000000</td>\n",
              "      <td>768.000000</td>\n",
              "      <td>768.000000</td>\n",
              "    </tr>\n",
              "    <tr>\n",
              "      <th>mean</th>\n",
              "      <td>3.845052</td>\n",
              "      <td>120.894531</td>\n",
              "      <td>69.105469</td>\n",
              "      <td>20.536458</td>\n",
              "      <td>79.799479</td>\n",
              "      <td>31.992578</td>\n",
              "      <td>0.471876</td>\n",
              "      <td>33.240885</td>\n",
              "      <td>0.348958</td>\n",
              "    </tr>\n",
              "    <tr>\n",
              "      <th>std</th>\n",
              "      <td>3.369578</td>\n",
              "      <td>31.972618</td>\n",
              "      <td>19.355807</td>\n",
              "      <td>15.952218</td>\n",
              "      <td>115.244002</td>\n",
              "      <td>7.884160</td>\n",
              "      <td>0.331329</td>\n",
              "      <td>11.760232</td>\n",
              "      <td>0.476951</td>\n",
              "    </tr>\n",
              "    <tr>\n",
              "      <th>min</th>\n",
              "      <td>0.000000</td>\n",
              "      <td>0.000000</td>\n",
              "      <td>0.000000</td>\n",
              "      <td>0.000000</td>\n",
              "      <td>0.000000</td>\n",
              "      <td>0.000000</td>\n",
              "      <td>0.078000</td>\n",
              "      <td>21.000000</td>\n",
              "      <td>0.000000</td>\n",
              "    </tr>\n",
              "    <tr>\n",
              "      <th>25%</th>\n",
              "      <td>1.000000</td>\n",
              "      <td>99.000000</td>\n",
              "      <td>62.000000</td>\n",
              "      <td>0.000000</td>\n",
              "      <td>0.000000</td>\n",
              "      <td>27.300000</td>\n",
              "      <td>0.243750</td>\n",
              "      <td>24.000000</td>\n",
              "      <td>0.000000</td>\n",
              "    </tr>\n",
              "    <tr>\n",
              "      <th>50%</th>\n",
              "      <td>3.000000</td>\n",
              "      <td>117.000000</td>\n",
              "      <td>72.000000</td>\n",
              "      <td>23.000000</td>\n",
              "      <td>30.500000</td>\n",
              "      <td>32.000000</td>\n",
              "      <td>0.372500</td>\n",
              "      <td>29.000000</td>\n",
              "      <td>0.000000</td>\n",
              "    </tr>\n",
              "    <tr>\n",
              "      <th>75%</th>\n",
              "      <td>6.000000</td>\n",
              "      <td>140.250000</td>\n",
              "      <td>80.000000</td>\n",
              "      <td>32.000000</td>\n",
              "      <td>127.250000</td>\n",
              "      <td>36.600000</td>\n",
              "      <td>0.626250</td>\n",
              "      <td>41.000000</td>\n",
              "      <td>1.000000</td>\n",
              "    </tr>\n",
              "    <tr>\n",
              "      <th>max</th>\n",
              "      <td>17.000000</td>\n",
              "      <td>199.000000</td>\n",
              "      <td>122.000000</td>\n",
              "      <td>99.000000</td>\n",
              "      <td>846.000000</td>\n",
              "      <td>67.100000</td>\n",
              "      <td>2.420000</td>\n",
              "      <td>81.000000</td>\n",
              "      <td>1.000000</td>\n",
              "    </tr>\n",
              "  </tbody>\n",
              "</table>\n",
              "</div>\n",
              "      <button class=\"colab-df-convert\" onclick=\"convertToInteractive('df-8b6dbf88-c07a-4bf4-a375-cc010f080d5b')\"\n",
              "              title=\"Convert this dataframe to an interactive table.\"\n",
              "              style=\"display:none;\">\n",
              "        \n",
              "  <svg xmlns=\"http://www.w3.org/2000/svg\" height=\"24px\"viewBox=\"0 0 24 24\"\n",
              "       width=\"24px\">\n",
              "    <path d=\"M0 0h24v24H0V0z\" fill=\"none\"/>\n",
              "    <path d=\"M18.56 5.44l.94 2.06.94-2.06 2.06-.94-2.06-.94-.94-2.06-.94 2.06-2.06.94zm-11 1L8.5 8.5l.94-2.06 2.06-.94-2.06-.94L8.5 2.5l-.94 2.06-2.06.94zm10 10l.94 2.06.94-2.06 2.06-.94-2.06-.94-.94-2.06-.94 2.06-2.06.94z\"/><path d=\"M17.41 7.96l-1.37-1.37c-.4-.4-.92-.59-1.43-.59-.52 0-1.04.2-1.43.59L10.3 9.45l-7.72 7.72c-.78.78-.78 2.05 0 2.83L4 21.41c.39.39.9.59 1.41.59.51 0 1.02-.2 1.41-.59l7.78-7.78 2.81-2.81c.8-.78.8-2.07 0-2.86zM5.41 20L4 18.59l7.72-7.72 1.47 1.35L5.41 20z\"/>\n",
              "  </svg>\n",
              "      </button>\n",
              "      \n",
              "  <style>\n",
              "    .colab-df-container {\n",
              "      display:flex;\n",
              "      flex-wrap:wrap;\n",
              "      gap: 12px;\n",
              "    }\n",
              "\n",
              "    .colab-df-convert {\n",
              "      background-color: #E8F0FE;\n",
              "      border: none;\n",
              "      border-radius: 50%;\n",
              "      cursor: pointer;\n",
              "      display: none;\n",
              "      fill: #1967D2;\n",
              "      height: 32px;\n",
              "      padding: 0 0 0 0;\n",
              "      width: 32px;\n",
              "    }\n",
              "\n",
              "    .colab-df-convert:hover {\n",
              "      background-color: #E2EBFA;\n",
              "      box-shadow: 0px 1px 2px rgba(60, 64, 67, 0.3), 0px 1px 3px 1px rgba(60, 64, 67, 0.15);\n",
              "      fill: #174EA6;\n",
              "    }\n",
              "\n",
              "    [theme=dark] .colab-df-convert {\n",
              "      background-color: #3B4455;\n",
              "      fill: #D2E3FC;\n",
              "    }\n",
              "\n",
              "    [theme=dark] .colab-df-convert:hover {\n",
              "      background-color: #434B5C;\n",
              "      box-shadow: 0px 1px 3px 1px rgba(0, 0, 0, 0.15);\n",
              "      filter: drop-shadow(0px 1px 2px rgba(0, 0, 0, 0.3));\n",
              "      fill: #FFFFFF;\n",
              "    }\n",
              "  </style>\n",
              "\n",
              "      <script>\n",
              "        const buttonEl =\n",
              "          document.querySelector('#df-8b6dbf88-c07a-4bf4-a375-cc010f080d5b button.colab-df-convert');\n",
              "        buttonEl.style.display =\n",
              "          google.colab.kernel.accessAllowed ? 'block' : 'none';\n",
              "\n",
              "        async function convertToInteractive(key) {\n",
              "          const element = document.querySelector('#df-8b6dbf88-c07a-4bf4-a375-cc010f080d5b');\n",
              "          const dataTable =\n",
              "            await google.colab.kernel.invokeFunction('convertToInteractive',\n",
              "                                                     [key], {});\n",
              "          if (!dataTable) return;\n",
              "\n",
              "          const docLinkHtml = 'Like what you see? Visit the ' +\n",
              "            '<a target=\"_blank\" href=https://colab.research.google.com/notebooks/data_table.ipynb>data table notebook</a>'\n",
              "            + ' to learn more about interactive tables.';\n",
              "          element.innerHTML = '';\n",
              "          dataTable['output_type'] = 'display_data';\n",
              "          await google.colab.output.renderOutput(dataTable, element);\n",
              "          const docLink = document.createElement('div');\n",
              "          docLink.innerHTML = docLinkHtml;\n",
              "          element.appendChild(docLink);\n",
              "        }\n",
              "      </script>\n",
              "    </div>\n",
              "  </div>\n",
              "  "
            ]
          },
          "metadata": {},
          "execution_count": 427
        }
      ]
    },
    {
      "cell_type": "markdown",
      "source": [
        "---\n",
        "Secara sekolas terdapat banyak sekali nilai 0 pada dataset. Ini mengindikasi bahwa nilai 0 tersebut seblumnya adalah missing value yang dirubah dengan 0. Sehingga akan saya berikan handling pada nilai 0."
      ],
      "metadata": {
        "id": "4fNuT6jDrnxa"
      }
    },
    {
      "cell_type": "code",
      "source": [
        "#Menghitung nilai jumlah 0 dalam persen\n",
        "data_ = ['Glucose','Insulin']\n",
        "\n",
        "for v in data_:\n",
        "  print(f'Rata-rata jumlah nilai 0 pada',v ,':', (df[v] == 0).sum() / df[v].sum() * 100 , '%')"
      ],
      "metadata": {
        "colab": {
          "base_uri": "https://localhost:8080/"
        },
        "id": "PxcJrHCJBf6_",
        "outputId": "292d54fb-0f40-4552-f4a3-e02499c333dd"
      },
      "execution_count": 428,
      "outputs": [
        {
          "output_type": "stream",
          "name": "stdout",
          "text": [
            "Rata-rata jumlah nilai 0 pada Glucose : 0.005385203614548666 %\n",
            "Rata-rata jumlah nilai 0 pada Insulin : 0.610253565251444 %\n"
          ]
        }
      ]
    },
    {
      "cell_type": "markdown",
      "source": [
        "* Jika Nilai 0 bertotal di bawah 5 % maka di hapus\n",
        "* Jika Nilai 0 bertotal di atas 5 % maka di lakukan penggantian nilai\n",
        "\n",
        "Semua nilai 0 pada data berada dibawa 5 % maka data dapat dihapus"
      ],
      "metadata": {
        "id": "vrxqIT4ng5w7"
      }
    },
    {
      "cell_type": "code",
      "source": [
        "#Menhapus nilai 0\n",
        "for d in data_:\n",
        "  db = df.drop(df[df[d] == 0].index)\n"
      ],
      "metadata": {
        "id": "WnTwxA13mqq3"
      },
      "execution_count": 429,
      "outputs": []
    },
    {
      "cell_type": "code",
      "source": [
        "#Pengecekan nilai 0\n",
        "for v in data_:\n",
        "  print(f'Rata-rata jumlah nilai 0 pada',v ,':', (db[v] == 0).sum() / db[v].sum() * 100 , '%')"
      ],
      "metadata": {
        "colab": {
          "base_uri": "https://localhost:8080/"
        },
        "id": "rDnU0ZT8mxq3",
        "outputId": "f7697f50-95cc-41f6-d460-57c268562711"
      },
      "execution_count": 430,
      "outputs": [
        {
          "output_type": "stream",
          "name": "stdout",
          "text": [
            "Rata-rata jumlah nilai 0 pada Glucose : 0.0020752054453390886 %\n",
            "Rata-rata jumlah nilai 0 pada Insulin : 0.0 %\n"
          ]
        }
      ]
    },
    {
      "cell_type": "markdown",
      "source": [
        "---\n",
        "Nilai 0 sudah berhasil di handling, sehingga dapat dilanjutkan untuk proses cleaning selanjutnya."
      ],
      "metadata": {
        "id": "usHH9NVttLV3"
      }
    },
    {
      "cell_type": "markdown",
      "source": [
        "## Statistik Deskriptif"
      ],
      "metadata": {
        "id": "WCxDo5auv8uK"
      }
    },
    {
      "cell_type": "markdown",
      "source": [
        "### Outlier"
      ],
      "metadata": {
        "id": "re_ByjXYwqqf"
      }
    },
    {
      "cell_type": "code",
      "source": [
        "#Menghitung nilai skewness dan central tendency\n",
        "for xx in data_:\n",
        "  print(f'Nilai Skewness', xx,':', db[xx].kurtosis())\n",
        "  print(f'Nilai Mean', xx, ':', db[xx].mean())\n",
        "  print(f'Nilai Median', xx, ':', db[xx].median())\n",
        "  print(f'Nilai Modus', xx, ':', db[xx].mode()[0])\n",
        "  print('\\n')"
      ],
      "metadata": {
        "id": "ueF2VnIxbQBY",
        "colab": {
          "base_uri": "https://localhost:8080/"
        },
        "outputId": "95b5ccc4-c6cc-423d-d363-c0ac41049592"
      },
      "execution_count": 431,
      "outputs": [
        {
          "output_type": "stream",
          "name": "stdout",
          "text": [
            "Nilai Skewness Glucose : -0.04849838768657477\n",
            "Nilai Mean Glucose : 122.30456852791878\n",
            "Nilai Median Glucose : 119.0\n",
            "Nilai Modus Glucose : 100\n",
            "\n",
            "\n",
            "Nilai Skewness Insulin : 6.3705218146330305\n",
            "Nilai Mean Insulin : 155.5482233502538\n",
            "Nilai Median Insulin : 125.0\n",
            "Nilai Modus Insulin : 105\n",
            "\n",
            "\n"
          ]
        }
      ]
    },
    {
      "cell_type": "markdown",
      "source": [
        "---\n",
        "Dalam pemilihan metode untuk penanganan outlier dapat dilihat dari nilai skewness. Glucosa dan insulin adalah data dengan distribusi tidak normal dengan nilai skewness. Sehingga akan dilakukan handling dengan IQR."
      ],
      "metadata": {
        "id": "XK0YAfDJspN4"
      }
    },
    {
      "cell_type": "markdown",
      "source": [
        "### Penangan Outlier"
      ],
      "metadata": {
        "id": "OiRTOSm99zzm"
      }
    },
    {
      "cell_type": "markdown",
      "source": [
        "---\n",
        "* Pada Glucose menggunakan Q3 +- 1.5 * IQR\n",
        "* Pada Insulin menggunakan Q3 +- 1.5 * IQR"
      ],
      "metadata": {
        "id": "o76jui_O-Szs"
      }
    },
    {
      "cell_type": "code",
      "source": [
        "#Mencari nilai quartile dan IQR\n",
        "\n",
        "data = ['Glucose', 'Insulin']\n",
        "for i in data:\n",
        "  Q1 = np.quantile(db[i], .25)\n",
        "  Q3 = np.quantile(db[i], .75) \n",
        "  IQR = Q3 - Q1\n",
        "  print(f'Nilai Q1', i, ':', Q1)\n",
        "  print(f'Nilai Q3', i, ':', Q3)\n",
        "  print(f'Nilai IQR', i, ':', IQR)\n",
        "  print('\\n')\n",
        " "
      ],
      "metadata": {
        "colab": {
          "base_uri": "https://localhost:8080/"
        },
        "id": "oaQvV8wACz1d",
        "outputId": "5ccab590-3eb7-4eca-e05a-a40c7cfa8e79"
      },
      "execution_count": 432,
      "outputs": [
        {
          "output_type": "stream",
          "name": "stdout",
          "text": [
            "Nilai Q1 Glucose : 99.0\n",
            "Nilai Q3 Glucose : 143.0\n",
            "Nilai IQR Glucose : 44.0\n",
            "\n",
            "\n",
            "Nilai Q1 Insulin : 76.25\n",
            "Nilai Q3 Insulin : 190.0\n",
            "Nilai IQR Insulin : 113.75\n",
            "\n",
            "\n"
          ]
        }
      ]
    },
    {
      "cell_type": "code",
      "source": [
        "# Penangan Outlier  Glucose\n",
        "Q1_g = np.quantile(db['Glucose'], .25)\n",
        "Q3_g = np.quantile(db['Glucose'], .75) \n",
        "IQR_g = Q3 - Q1\n",
        "\n",
        "BB_g = Q1 - 1.5 * IQR_g\n",
        "BA_g = Q1 + 1.5 * IQR_g\n",
        "\n",
        "# Penanganan Outlier di Insulin\n",
        "Q1_i = np.quantile(db['Insulin'], .25)\n",
        "Q3_i = np.quantile(db['Insulin'], .75) \n",
        "IQR_i = Q3 - Q1\n",
        "\n",
        "BB_i = Q1 - 1.5 * IQR_i\n",
        "BA_i = Q1 + 1.5 * IQR_i\n",
        "\n"
      ],
      "metadata": {
        "id": "zYckE54Yt0o_"
      },
      "execution_count": 433,
      "outputs": []
    },
    {
      "cell_type": "code",
      "source": [
        "#Memisahkan data yang tergolong outlier dengan IQR\n",
        "a = db[(db['Glucose'] > BB_g) | (db['Glucose'] < BA_g)]\n",
        "b = a[(a['BloodPressure'] > BB_bp) | (a['BloodPressure'] < BA_bp)]\n",
        "c = b[(b['SkinThickness'] > BB_st) | (b['SkinThickness'] < BA_st)]\n",
        "db = c[(c['Insulin'] > BB_i) | (c['Insulin'] < BA_i)]\n",
        "db.reset_index()\n",
        " "
      ],
      "metadata": {
        "colab": {
          "base_uri": "https://localhost:8080/",
          "height": 488
        },
        "id": "cGFeE-bNyBfT",
        "outputId": "61a57dba-eb02-4ed9-d3d6-81fe7381a75b"
      },
      "execution_count": 434,
      "outputs": [
        {
          "output_type": "execute_result",
          "data": {
            "text/plain": [
              "     index  Pregnancies  Glucose  BloodPressure  SkinThickness  Insulin   BMI  \\\n",
              "0        3            1       89             66             23       94  28.1   \n",
              "1        4            0      137             40             35      168  43.1   \n",
              "2        6            3       78             50             32       88  31.0   \n",
              "3        8            2      197             70             45      543  30.5   \n",
              "4       13            1      189             60             23      846  30.1   \n",
              "..     ...          ...      ...            ...            ...      ...   ...   \n",
              "389    753            0      181             88             44      510  43.3   \n",
              "390    755            1      128             88             39      110  36.5   \n",
              "391    760            2       88             58             26       16  28.4   \n",
              "392    763           10      101             76             48      180  32.9   \n",
              "393    765            5      121             72             23      112  26.2   \n",
              "\n",
              "     DiabetesPedigreeFunction  Age  Outcome  \n",
              "0                       0.167   21        0  \n",
              "1                       2.288   33        1  \n",
              "2                       0.248   26        1  \n",
              "3                       0.158   53        1  \n",
              "4                       0.398   59        1  \n",
              "..                        ...  ...      ...  \n",
              "389                     0.222   26        1  \n",
              "390                     1.057   37        1  \n",
              "391                     0.766   22        0  \n",
              "392                     0.171   63        0  \n",
              "393                     0.245   30        0  \n",
              "\n",
              "[394 rows x 10 columns]"
            ],
            "text/html": [
              "\n",
              "  <div id=\"df-5f3239eb-c9bb-43d7-b13b-9b1110b82dff\">\n",
              "    <div class=\"colab-df-container\">\n",
              "      <div>\n",
              "<style scoped>\n",
              "    .dataframe tbody tr th:only-of-type {\n",
              "        vertical-align: middle;\n",
              "    }\n",
              "\n",
              "    .dataframe tbody tr th {\n",
              "        vertical-align: top;\n",
              "    }\n",
              "\n",
              "    .dataframe thead th {\n",
              "        text-align: right;\n",
              "    }\n",
              "</style>\n",
              "<table border=\"1\" class=\"dataframe\">\n",
              "  <thead>\n",
              "    <tr style=\"text-align: right;\">\n",
              "      <th></th>\n",
              "      <th>index</th>\n",
              "      <th>Pregnancies</th>\n",
              "      <th>Glucose</th>\n",
              "      <th>BloodPressure</th>\n",
              "      <th>SkinThickness</th>\n",
              "      <th>Insulin</th>\n",
              "      <th>BMI</th>\n",
              "      <th>DiabetesPedigreeFunction</th>\n",
              "      <th>Age</th>\n",
              "      <th>Outcome</th>\n",
              "    </tr>\n",
              "  </thead>\n",
              "  <tbody>\n",
              "    <tr>\n",
              "      <th>0</th>\n",
              "      <td>3</td>\n",
              "      <td>1</td>\n",
              "      <td>89</td>\n",
              "      <td>66</td>\n",
              "      <td>23</td>\n",
              "      <td>94</td>\n",
              "      <td>28.1</td>\n",
              "      <td>0.167</td>\n",
              "      <td>21</td>\n",
              "      <td>0</td>\n",
              "    </tr>\n",
              "    <tr>\n",
              "      <th>1</th>\n",
              "      <td>4</td>\n",
              "      <td>0</td>\n",
              "      <td>137</td>\n",
              "      <td>40</td>\n",
              "      <td>35</td>\n",
              "      <td>168</td>\n",
              "      <td>43.1</td>\n",
              "      <td>2.288</td>\n",
              "      <td>33</td>\n",
              "      <td>1</td>\n",
              "    </tr>\n",
              "    <tr>\n",
              "      <th>2</th>\n",
              "      <td>6</td>\n",
              "      <td>3</td>\n",
              "      <td>78</td>\n",
              "      <td>50</td>\n",
              "      <td>32</td>\n",
              "      <td>88</td>\n",
              "      <td>31.0</td>\n",
              "      <td>0.248</td>\n",
              "      <td>26</td>\n",
              "      <td>1</td>\n",
              "    </tr>\n",
              "    <tr>\n",
              "      <th>3</th>\n",
              "      <td>8</td>\n",
              "      <td>2</td>\n",
              "      <td>197</td>\n",
              "      <td>70</td>\n",
              "      <td>45</td>\n",
              "      <td>543</td>\n",
              "      <td>30.5</td>\n",
              "      <td>0.158</td>\n",
              "      <td>53</td>\n",
              "      <td>1</td>\n",
              "    </tr>\n",
              "    <tr>\n",
              "      <th>4</th>\n",
              "      <td>13</td>\n",
              "      <td>1</td>\n",
              "      <td>189</td>\n",
              "      <td>60</td>\n",
              "      <td>23</td>\n",
              "      <td>846</td>\n",
              "      <td>30.1</td>\n",
              "      <td>0.398</td>\n",
              "      <td>59</td>\n",
              "      <td>1</td>\n",
              "    </tr>\n",
              "    <tr>\n",
              "      <th>...</th>\n",
              "      <td>...</td>\n",
              "      <td>...</td>\n",
              "      <td>...</td>\n",
              "      <td>...</td>\n",
              "      <td>...</td>\n",
              "      <td>...</td>\n",
              "      <td>...</td>\n",
              "      <td>...</td>\n",
              "      <td>...</td>\n",
              "      <td>...</td>\n",
              "    </tr>\n",
              "    <tr>\n",
              "      <th>389</th>\n",
              "      <td>753</td>\n",
              "      <td>0</td>\n",
              "      <td>181</td>\n",
              "      <td>88</td>\n",
              "      <td>44</td>\n",
              "      <td>510</td>\n",
              "      <td>43.3</td>\n",
              "      <td>0.222</td>\n",
              "      <td>26</td>\n",
              "      <td>1</td>\n",
              "    </tr>\n",
              "    <tr>\n",
              "      <th>390</th>\n",
              "      <td>755</td>\n",
              "      <td>1</td>\n",
              "      <td>128</td>\n",
              "      <td>88</td>\n",
              "      <td>39</td>\n",
              "      <td>110</td>\n",
              "      <td>36.5</td>\n",
              "      <td>1.057</td>\n",
              "      <td>37</td>\n",
              "      <td>1</td>\n",
              "    </tr>\n",
              "    <tr>\n",
              "      <th>391</th>\n",
              "      <td>760</td>\n",
              "      <td>2</td>\n",
              "      <td>88</td>\n",
              "      <td>58</td>\n",
              "      <td>26</td>\n",
              "      <td>16</td>\n",
              "      <td>28.4</td>\n",
              "      <td>0.766</td>\n",
              "      <td>22</td>\n",
              "      <td>0</td>\n",
              "    </tr>\n",
              "    <tr>\n",
              "      <th>392</th>\n",
              "      <td>763</td>\n",
              "      <td>10</td>\n",
              "      <td>101</td>\n",
              "      <td>76</td>\n",
              "      <td>48</td>\n",
              "      <td>180</td>\n",
              "      <td>32.9</td>\n",
              "      <td>0.171</td>\n",
              "      <td>63</td>\n",
              "      <td>0</td>\n",
              "    </tr>\n",
              "    <tr>\n",
              "      <th>393</th>\n",
              "      <td>765</td>\n",
              "      <td>5</td>\n",
              "      <td>121</td>\n",
              "      <td>72</td>\n",
              "      <td>23</td>\n",
              "      <td>112</td>\n",
              "      <td>26.2</td>\n",
              "      <td>0.245</td>\n",
              "      <td>30</td>\n",
              "      <td>0</td>\n",
              "    </tr>\n",
              "  </tbody>\n",
              "</table>\n",
              "<p>394 rows × 10 columns</p>\n",
              "</div>\n",
              "      <button class=\"colab-df-convert\" onclick=\"convertToInteractive('df-5f3239eb-c9bb-43d7-b13b-9b1110b82dff')\"\n",
              "              title=\"Convert this dataframe to an interactive table.\"\n",
              "              style=\"display:none;\">\n",
              "        \n",
              "  <svg xmlns=\"http://www.w3.org/2000/svg\" height=\"24px\"viewBox=\"0 0 24 24\"\n",
              "       width=\"24px\">\n",
              "    <path d=\"M0 0h24v24H0V0z\" fill=\"none\"/>\n",
              "    <path d=\"M18.56 5.44l.94 2.06.94-2.06 2.06-.94-2.06-.94-.94-2.06-.94 2.06-2.06.94zm-11 1L8.5 8.5l.94-2.06 2.06-.94-2.06-.94L8.5 2.5l-.94 2.06-2.06.94zm10 10l.94 2.06.94-2.06 2.06-.94-2.06-.94-.94-2.06-.94 2.06-2.06.94z\"/><path d=\"M17.41 7.96l-1.37-1.37c-.4-.4-.92-.59-1.43-.59-.52 0-1.04.2-1.43.59L10.3 9.45l-7.72 7.72c-.78.78-.78 2.05 0 2.83L4 21.41c.39.39.9.59 1.41.59.51 0 1.02-.2 1.41-.59l7.78-7.78 2.81-2.81c.8-.78.8-2.07 0-2.86zM5.41 20L4 18.59l7.72-7.72 1.47 1.35L5.41 20z\"/>\n",
              "  </svg>\n",
              "      </button>\n",
              "      \n",
              "  <style>\n",
              "    .colab-df-container {\n",
              "      display:flex;\n",
              "      flex-wrap:wrap;\n",
              "      gap: 12px;\n",
              "    }\n",
              "\n",
              "    .colab-df-convert {\n",
              "      background-color: #E8F0FE;\n",
              "      border: none;\n",
              "      border-radius: 50%;\n",
              "      cursor: pointer;\n",
              "      display: none;\n",
              "      fill: #1967D2;\n",
              "      height: 32px;\n",
              "      padding: 0 0 0 0;\n",
              "      width: 32px;\n",
              "    }\n",
              "\n",
              "    .colab-df-convert:hover {\n",
              "      background-color: #E2EBFA;\n",
              "      box-shadow: 0px 1px 2px rgba(60, 64, 67, 0.3), 0px 1px 3px 1px rgba(60, 64, 67, 0.15);\n",
              "      fill: #174EA6;\n",
              "    }\n",
              "\n",
              "    [theme=dark] .colab-df-convert {\n",
              "      background-color: #3B4455;\n",
              "      fill: #D2E3FC;\n",
              "    }\n",
              "\n",
              "    [theme=dark] .colab-df-convert:hover {\n",
              "      background-color: #434B5C;\n",
              "      box-shadow: 0px 1px 3px 1px rgba(0, 0, 0, 0.15);\n",
              "      filter: drop-shadow(0px 1px 2px rgba(0, 0, 0, 0.3));\n",
              "      fill: #FFFFFF;\n",
              "    }\n",
              "  </style>\n",
              "\n",
              "      <script>\n",
              "        const buttonEl =\n",
              "          document.querySelector('#df-5f3239eb-c9bb-43d7-b13b-9b1110b82dff button.colab-df-convert');\n",
              "        buttonEl.style.display =\n",
              "          google.colab.kernel.accessAllowed ? 'block' : 'none';\n",
              "\n",
              "        async function convertToInteractive(key) {\n",
              "          const element = document.querySelector('#df-5f3239eb-c9bb-43d7-b13b-9b1110b82dff');\n",
              "          const dataTable =\n",
              "            await google.colab.kernel.invokeFunction('convertToInteractive',\n",
              "                                                     [key], {});\n",
              "          if (!dataTable) return;\n",
              "\n",
              "          const docLinkHtml = 'Like what you see? Visit the ' +\n",
              "            '<a target=\"_blank\" href=https://colab.research.google.com/notebooks/data_table.ipynb>data table notebook</a>'\n",
              "            + ' to learn more about interactive tables.';\n",
              "          element.innerHTML = '';\n",
              "          dataTable['output_type'] = 'display_data';\n",
              "          await google.colab.output.renderOutput(dataTable, element);\n",
              "          const docLink = document.createElement('div');\n",
              "          docLink.innerHTML = docLinkHtml;\n",
              "          element.appendChild(docLink);\n",
              "        }\n",
              "      </script>\n",
              "    </div>\n",
              "  </div>\n",
              "  "
            ]
          },
          "metadata": {},
          "execution_count": 434
        }
      ]
    },
    {
      "cell_type": "markdown",
      "source": [
        "---\n",
        "Berikut adalah data yang sudah di cleaning dan siap untuk di gunakan."
      ],
      "metadata": {
        "id": "6-3X_FfEzOHA"
      }
    },
    {
      "cell_type": "markdown",
      "source": [
        "#Analisis dan Perhitungan"
      ],
      "metadata": {
        "id": "gXnjtOEGzUJC"
      }
    },
    {
      "cell_type": "markdown",
      "source": [
        "## Hipotesis Testing"
      ],
      "metadata": {
        "id": "-h_YIEtFBR-U"
      }
    },
    {
      "cell_type": "markdown",
      "source": [
        "Pada data ini secara sekilas setiap variabel memiliki hubungannya masing masing. Saya ingin membuktikan menggunakan hipotesis testing one sample. Saya ingin membuktikan bahwa nilai mean dari Glucosa adalah sama dengan 120"
      ],
      "metadata": {
        "id": "2FKrLkLqBmdG"
      }
    },
    {
      "cell_type": "markdown",
      "source": [
        "**Hipotesis:**\n",
        "\n",
        "**H0 : μ Glucose != 120**\n",
        "\n",
        "**H1 : μ Glucose = 120**"
      ],
      "metadata": {
        "id": "P2zdDn2aDtZe"
      }
    },
    {
      "cell_type": "code",
      "source": [
        "#Membuat variabel\n",
        "g = db['Glucose']\n",
        "bp = db['BloodPressure']"
      ],
      "metadata": {
        "id": "sm_L1HWNBV_E"
      },
      "execution_count": 435,
      "outputs": []
    },
    {
      "cell_type": "code",
      "source": [
        "#Melihat nilai p-value keduanya\n",
        "t_stat, p_val = stats.ttest_1samp(db['Glucose'], 120)\n",
        "print('P-value:',p_val)\n",
        "print('t-statistics:',t_stat)\n",
        "ci = stats.norm.interval(0.90, g.mean(), g.std())\n",
        "print(f'Nilai Ci: ', ci[0])"
      ],
      "metadata": {
        "colab": {
          "base_uri": "https://localhost:8080/"
        },
        "id": "4ajtLS_CE0Hw",
        "outputId": "1c230fb8-d50d-418f-831c-8528e5831e94"
      },
      "execution_count": 456,
      "outputs": [
        {
          "output_type": "stream",
          "name": "stdout",
          "text": [
            "P-value: 0.14592059991885728\n",
            "t-statistics: 1.4569793310807029\n",
            "Nilai Ci:  70.66155181244952\n"
          ]
        }
      ]
    },
    {
      "cell_type": "markdown",
      "source": [
        "---\n",
        "Dapat dilihat dari nilai P-value dan Nilai Ci karena P-value lebih besar dari Ci maka H0 berhasil di terima. Dengan artian nilai rata-rata dari Glucose tidak sama dengan 120."
      ],
      "metadata": {
        "id": "i3ySW92M1rcw"
      }
    },
    {
      "cell_type": "code",
      "source": [
        "#Membuat range random data dan nilai meannya\n",
        "G_pop = np.random.normal(g.mean(),g.std(),10000)\n",
        "G_pop.mean()"
      ],
      "metadata": {
        "colab": {
          "base_uri": "https://localhost:8080/"
        },
        "id": "8pvg3wJ6Hdxd",
        "outputId": "b92c6460-9ba6-4468-e6a1-8d99fa8acd5e"
      },
      "execution_count": 454,
      "outputs": [
        {
          "output_type": "execute_result",
          "data": {
            "text/plain": [
              "122.77973161939404"
            ]
          },
          "metadata": {},
          "execution_count": 454
        }
      ]
    },
    {
      "cell_type": "code",
      "source": [
        "#Membuat plot untuk menentukan H0 dan H1\n",
        "G_pop = np.random.normal(g.mean(), bp.std(), 1000)\n",
        "#Menentukan nilai Confidence Interval\n",
        "ci = stats.norm.interval(0.95, g.mean(), g.std())\n",
        "\n",
        "plt.figure(figsize=(8,5))\n",
        "sns.distplot(G_pop, label='Daily Income (Population)', color='blue')\n",
        "plt.axvline(g.mean(), color='red', linewidth=2, label='Daily Income (Mean)')\n",
        "plt.axvline(ci[1], color='green', linestyle='dashed', linewidth=2, label='confidence threshold of 95%')\n",
        "plt.axvline(ci[0], color='green', linestyle='dashed', linewidth=2, label='confidence threshold of 95%')\n",
        "plt.axvline(G_pop.mean() + t_stat*G_pop.std(), color='black', linestyle='dashed', linewidth=2, label = 'Alternative Hypothesis')\n",
        "plt.axvline(G_pop.mean() - t_stat*G_pop.std(), color='black', linestyle='dashed', linewidth=2, label = 'Alternative Hypothesis')\n",
        "plt.legend()"
      ],
      "metadata": {
        "colab": {
          "base_uri": "https://localhost:8080/",
          "height": 392
        },
        "id": "K-Bmp0SwIcr1",
        "outputId": "9e5ba610-05c1-472a-e177-55f3a5ea1040"
      },
      "execution_count": 460,
      "outputs": [
        {
          "output_type": "stream",
          "name": "stderr",
          "text": [
            "/usr/local/lib/python3.7/dist-packages/seaborn/distributions.py:2619: FutureWarning: `distplot` is a deprecated function and will be removed in a future version. Please adapt your code to use either `displot` (a figure-level function with similar flexibility) or `histplot` (an axes-level function for histograms).\n",
            "  warnings.warn(msg, FutureWarning)\n"
          ]
        },
        {
          "output_type": "execute_result",
          "data": {
            "text/plain": [
              "<matplotlib.legend.Legend at 0x7f816edcd550>"
            ]
          },
          "metadata": {},
          "execution_count": 460
        },
        {
          "output_type": "display_data",
          "data": {
            "text/plain": [
              "<Figure size 576x360 with 1 Axes>"
            ],
            "image/png": "[encoded data removed]"
          },
          "metadata": {
            "needs_background": "light"
          }
        }
      ]
    },
    {
      "cell_type": "markdown",
      "source": [
        "---\n",
        "Berdasarkan data grafik bahwa nilai alternatif hypothesis berada diantara garis ci maka H0 berhasil di terima yang menandakan bahwa rata-rata dari Glucose tidak sama dengan 120."
      ],
      "metadata": {
        "id": "L2qJQqZX3_nQ"
      }
    },
    {
      "cell_type": "markdown",
      "source": [
        "##Visualisasi"
      ],
      "metadata": {
        "id": "syyvUgpvqgT0"
      }
    },
    {
      "cell_type": "markdown",
      "source": [
        "###Outcome pie chart"
      ],
      "metadata": {
        "id": "yFUHxyJ00KsT"
      }
    },
    {
      "cell_type": "code",
      "source": [
        "#Mengelompokan umur\n",
        "Gol_umur = [20, 31, 41, 61, 81]\n",
        "kategori = ['Remaja', 'Dewasa', \"Orang_Tua\", \"Lansia\"]\n",
        "Golongan = pd.cut(db['Age'], bins = Gol_umur, labels = kategori)\n"
      ],
      "metadata": {
        "id": "X8kFB5X01oI9"
      },
      "execution_count": 441,
      "outputs": []
    },
    {
      "cell_type": "markdown",
      "source": [
        "Golongan:\n",
        "* Remaja = 21-31 Tahun\n",
        "* Dewasa = 32-41 Tahun\n",
        "* Orang_Tua = 42-61 Tahun\n",
        "* Lansia = 61-81 Tahun"
      ],
      "metadata": {
        "id": "WeL6xJUG3Z6g"
      }
    },
    {
      "cell_type": "code",
      "source": [
        "#Membuat variabel label\n",
        "db['Outcome'].sum()\n",
        "label = db['Outcome'].unique()\n",
        "label"
      ],
      "metadata": {
        "colab": {
          "base_uri": "https://localhost:8080/"
        },
        "id": "np2oyOPe7q_t",
        "outputId": "fd7830ab-e0ef-4dcf-dee7-466cf9330540"
      },
      "execution_count": 442,
      "outputs": [
        {
          "output_type": "execute_result",
          "data": {
            "text/plain": [
              "array([0, 1])"
            ]
          },
          "metadata": {},
          "execution_count": 442
        }
      ]
    },
    {
      "cell_type": "code",
      "source": [
        "#Membuat pie chart outcome\n",
        "Age_indo = db.sort_values(by=['Age'], ascending = False)\n",
        "sum_out = db['Outcome'].sum()\n",
        "Age_1 = db[db['Outcome']== 1]['Age'].count()\n",
        "Age_0 = db[db['Outcome']== 0]['Age'].count()\n",
        "\n",
        "plt.figure(figsize=(8,10))\n",
        "plt.title('Persentase pasien Diabetes')\n",
        "plt.legend(['1 Diabetes', 'Non Diabetes'])\n",
        "aa = plt.pie([Age_1, Age_0], autopct = '%.1f%%')\n",
        "plt.legend(['Non Diabetes', 'Diabetes'])"
      ],
      "metadata": {
        "colab": {
          "base_uri": "https://localhost:8080/",
          "height": 510
        },
        "id": "1VXx3t1Q5nJz",
        "outputId": "7b0c06bc-8855-44de-88cc-86d7bc8e6eac"
      },
      "execution_count": 443,
      "outputs": [
        {
          "output_type": "execute_result",
          "data": {
            "text/plain": [
              "<matplotlib.legend.Legend at 0x7f816b125ed0>"
            ]
          },
          "metadata": {},
          "execution_count": 443
        },
        {
          "output_type": "display_data",
          "data": {
            "text/plain": [
              "<Figure size 576x720 with 1 Axes>"
            ],
            "image/png": "[encoded data removed]"
          },
          "metadata": {}
        }
      ]
    },
    {
      "cell_type": "markdown",
      "source": [
        " "
      ],
      "metadata": {
        "id": "Krc4Cu7Q5Z1f"
      }
    },
    {
      "cell_type": "markdown",
      "source": [
        "---\n",
        "Diketahui dari diagram lingkar diatas bahwa jumlah pasien dengan diabetes lebih banyak dari yang tidak. Pasien dengan diabetes memiliki nilai 67% sedangkan untuk pasien yang tidak terkena diabetes sebesar 33%"
      ],
      "metadata": {
        "id": "5dhAnrfyHq1P"
      }
    },
    {
      "cell_type": "markdown",
      "source": [
        "## Histogram from Age"
      ],
      "metadata": {
        "id": "lXv6_4lL_Mbc"
      }
    },
    {
      "cell_type": "code",
      "source": [
        "#Membuat histogram antara umur dan glucosa\n",
        "plt.figure(figsize=(8,5))\n",
        "Table_1 = sns.barplot(x = Golongan, y = \"Glucose\", hue = db['Outcome'], data = db, palette = \"Blues\")\n",
        "plt.title('Nilai BMI berdasarkan Golongan Umur')\n"
      ],
      "metadata": {
        "colab": {
          "base_uri": "https://localhost:8080/",
          "height": 368
        },
        "id": "5VIHeSLPs00e",
        "outputId": "b5710f83-746c-4db0-d573-a5d77e9198d2"
      },
      "execution_count": 445,
      "outputs": [
        {
          "output_type": "execute_result",
          "data": {
            "text/plain": [
              "Text(0.5, 1.0, 'Nilai BMI berdasarkan Golongan Umur')"
            ]
          },
          "metadata": {},
          "execution_count": 445
        },
        {
          "output_type": "display_data",
          "data": {
            "text/plain": [
              "<Figure size 576x360 with 1 Axes>"
            ],
            "image/png": "[encoded data removed]"
          },
          "metadata": {
            "needs_background": "light"
          }
        }
      ]
    },
    {
      "cell_type": "markdown",
      "source": [
        "---\n",
        "Dilihat dari grafik batang diatas bahwa orang tua dengan glucosa yang tinggi rentan terkena penyakit diabetes."
      ],
      "metadata": {
        "id": "4_ld7CMAICsa"
      }
    },
    {
      "cell_type": "markdown",
      "source": [
        "## Correlation "
      ],
      "metadata": {
        "id": "VvLdyF9-_-hB"
      }
    },
    {
      "cell_type": "code",
      "source": [
        "#Membuat tabel correlation\n",
        "plt.figure(figsize=(16, 6))\n",
        "sns.heatmap(db.corr(), vmin =-1, vmax=1, annot = True)"
      ],
      "metadata": {
        "colab": {
          "base_uri": "https://localhost:8080/",
          "height": 270
        },
        "id": "1FHTHddMOyE4",
        "outputId": "2fb7b59b-e85a-44eb-b75f-5d58fb5ea337"
      },
      "execution_count": 446,
      "outputs": [
        {
          "output_type": "execute_result",
          "data": {
            "text/plain": [
              "<matplotlib.axes._subplots.AxesSubplot at 0x7f816b101110>"
            ]
          },
          "metadata": {},
          "execution_count": 446
        },
        {
          "output_type": "display_data",
          "data": {
            "text/plain": [
              "<Figure size 1152x432 with 2 Axes>"
            ],
            "image/png": "[encoded data removed]"
          },
          "metadata": {
            "needs_background": "light"
          }
        }
      ]
    },
    {
      "cell_type": "markdown",
      "source": [
        "---\n",
        "Dari tabel diatas yang memiliki korelasi paking tinggi adalah age dan pregnancies karena secara logika memang banyaknya kehamilan akan selaras dengan bertambahnya umur.\n",
        "Jika dilihat dari nilai outcome atau pasien dengan diabetes atau tidak. Outcome paling berkorelasi dengan Glucose dan glucose memiliki korelasi yang tinggi juga dengan insulin."
      ],
      "metadata": {
        "id": "YF4Dl_mdIi64"
      }
    },
    {
      "cell_type": "markdown",
      "source": [
        "## Glucose dan Insulin"
      ],
      "metadata": {
        "id": "YxUe2Yf8NTh8"
      }
    },
    {
      "cell_type": "code",
      "source": [
        "#Membuat scatter plot antara glucosa dan insulin\n",
        "plt.title('Glucose and Insulin')\n",
        "GI = sns.scatterplot(x = db['Glucose'], y = db['Insulin'])"
      ],
      "metadata": {
        "colab": {
          "base_uri": "https://localhost:8080/",
          "height": 295
        },
        "id": "GslQmhEfbhJu",
        "outputId": "8af8649a-a05a-4e61-bc3f-087cb7d47b08"
      },
      "execution_count": 447,
      "outputs": [
        {
          "output_type": "display_data",
          "data": {
            "text/plain": [
              "<Figure size 432x288 with 1 Axes>"
            ],
            "image/png": "[encoded data removed]"
          },
          "metadata": {
            "needs_background": "light"
          }
        }
      ]
    },
    {
      "cell_type": "markdown",
      "source": [
        "---\n",
        "Dilihat bahwa penyebaran nilai berpusat pada glucosa diatas 75 dan selaras dengan naiknya jumlah insulin.\n",
        "Dapat dilihat pada range 75-125 terjadi penekanan kenaikan glucosa karena adanya insulin. Hal itu sesuai dengan teori bahwa insulin berguna untuk menekan glukosa di dalam tubuh"
      ],
      "metadata": {
        "id": "M5vufYalJOZ4"
      }
    },
    {
      "cell_type": "markdown",
      "source": [
        "#Pengambilan Kesimpulan"
      ],
      "metadata": {
        "id": "pQhaYsykKJ9M"
      }
    },
    {
      "cell_type": "markdown",
      "source": [
        "Diabetes adalah suatu penyakit yang dapat diukur melalui diagnostik. Penyakit diabetes lebih rawan untuk orang tua dengan rentang umur 42-61 tahun dengan tingkat glucosa yang tinggi. Oleh karena itu glucose dalam tubuh kita dapat kita tekan peningkatannya dengan insulin."
      ],
      "metadata": {
        "id": "TdHTxvQCKPfF"
      }
    },
    {
      "cell_type": "markdown",
      "source": [
        "#Penyimpanan Data"
      ],
      "metadata": {
        "id": "zgS_k9p6OJRh"
      }
    },
    {
      "cell_type": "code",
      "source": [
        "## DOWNLOADING CSV CLEAN FILES FOR TABLEAU \n",
        "\n",
        "from google.colab import files\n",
        "db.to_csv(r'C:\\Users\\User\\OneDrive\\Desktop\\HACKTIV8 DS\\Mailstone\\diabetes_clean.csv') \n",
        "files.download(r'C:\\Users\\User\\OneDrive\\Desktop\\HACKTIV8 DS\\Mailstone\\diabetes_clean.csv')"
      ],
      "metadata": {
        "colab": {
          "base_uri": "https://localhost:8080/",
          "height": 17
        },
        "id": "yhs8rLe7OMKE",
        "outputId": "60a818d3-72d9-4980-c6b9-1bf27450b622"
      },
      "execution_count": 462,
      "outputs": [
        {
          "output_type": "display_data",
          "data": {
            "text/plain": [
              "<IPython.core.display.Javascript object>"
            ],
            "application/javascript": [
              "\n",
              "    async function download(id, filename, size) {\n",
              "      if (!google.colab.kernel.accessAllowed) {\n",
              "        return;\n",
              "      }\n",
              "      const div = document.createElement('div');\n",
              "      const label = document.createElement('label');\n",
              "      label.textContent = `Downloading \"${filename}\": `;\n",
              "      div.appendChild(label);\n",
              "      const progress = document.createElement('progress');\n",
              "      progress.max = size;\n",
              "      div.appendChild(progress);\n",
              "      document.body.appendChild(div);\n",
              "\n",
              "      const buffers = [];\n",
              "      let downloaded = 0;\n",
              "\n",
              "      const channel = await google.colab.kernel.comms.open(id);\n",
              "      // Send a message to notify the kernel that we're ready.\n",
              "      channel.send({})\n",
              "\n",
              "      for await (const message of channel.messages) {\n",
              "        // Send a message to notify the kernel that we're ready.\n",
              "        channel.send({})\n",
              "        if (message.buffers) {\n",
              "          for (const buffer of message.buffers) {\n",
              "            buffers.push(buffer);\n",
              "            downloaded += buffer.byteLength;\n",
              "            progress.value = downloaded;\n",
              "          }\n",
              "        }\n",
              "      }\n",
              "      const blob = new Blob(buffers, {type: 'application/binary'});\n",
              "      const a = document.createElement('a');\n",
              "      a.href = window.URL.createObjectURL(blob);\n",
              "      a.download = filename;\n",
              "      div.appendChild(a);\n",
              "      a.click();\n",
              "      div.remove();\n",
              "    }\n",
              "  "
            ]
          },
          "metadata": {}
        },
        {
          "output_type": "display_data",
          "data": {
            "text/plain": [
              "<IPython.core.display.Javascript object>"
            ],
            "application/javascript": [
              "download(\"download_3fb722ed-3ee1-4906-9535-565a381ac85e\", \"C:\\\\Users\\\\User\\\\OneDrive\\\\Desktop\\\\HACKTIV8 DS\\\\Mailstone\\\\diabetes_clean.csv\", 13975)"
            ]
          },
          "metadata": {}
        }
      ]
    }
  ]
}